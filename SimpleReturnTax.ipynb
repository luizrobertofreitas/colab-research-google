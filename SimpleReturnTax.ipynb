{
  "nbformat": 4,
  "nbformat_minor": 0,
  "metadata": {
    "colab": {
      "name": "SimpleReturnTax.ipynb",
      "provenance": [],
      "authorship_tag": "ABX9TyNUxEP8rlp+7o1e/DuK1K2Y",
      "include_colab_link": true
    },
    "kernelspec": {
      "name": "python3",
      "display_name": "Python 3"
    }
  },
  "cells": [
    {
      "cell_type": "markdown",
      "metadata": {
        "id": "view-in-github",
        "colab_type": "text"
      },
      "source": [
        "<a href=\"https://colab.research.google.com/github/luizrobertofreitas/colab-research-google/blob/master/SimpleReturnTax.ipynb\" target=\"_parent\"><img src=\"https://colab.research.google.com/assets/colab-badge.svg\" alt=\"Open In Colab\"/></a>"
      ]
    },
    {
      "cell_type": "code",
      "metadata": {
        "id": "jNE17hd3CJHb",
        "colab_type": "code",
        "colab": {}
      },
      "source": [
        "import numpy as np\n",
        "from pandas_datareader import data as wb\n",
        "import matplotlib.pyplot as plt"
      ],
      "execution_count": 0,
      "outputs": []
    },
    {
      "cell_type": "code",
      "metadata": {
        "id": "kEez0Y3uCfTv",
        "colab_type": "code",
        "colab": {}
      },
      "source": [
        "PG = wb.DataReader('PG', data_source='yahoo', start='1995-1-1')"
      ],
      "execution_count": 0,
      "outputs": []
    },
    {
      "cell_type": "code",
      "metadata": {
        "id": "1lm_Yq0cCkph",
        "colab_type": "code",
        "colab": {
          "base_uri": "https://localhost:8080/",
          "height": 235
        },
        "outputId": "4b5cace3-5937-4818-d162-81678e2ca9f5"
      },
      "source": [
        "PG.head()"
      ],
      "execution_count": 12,
      "outputs": [
        {
          "output_type": "execute_result",
          "data": {
            "text/html": [
              "<div>\n",
              "<style scoped>\n",
              "    .dataframe tbody tr th:only-of-type {\n",
              "        vertical-align: middle;\n",
              "    }\n",
              "\n",
              "    .dataframe tbody tr th {\n",
              "        vertical-align: top;\n",
              "    }\n",
              "\n",
              "    .dataframe thead th {\n",
              "        text-align: right;\n",
              "    }\n",
              "</style>\n",
              "<table border=\"1\" class=\"dataframe\">\n",
              "  <thead>\n",
              "    <tr style=\"text-align: right;\">\n",
              "      <th></th>\n",
              "      <th>High</th>\n",
              "      <th>Low</th>\n",
              "      <th>Open</th>\n",
              "      <th>Close</th>\n",
              "      <th>Volume</th>\n",
              "      <th>Adj Close</th>\n",
              "    </tr>\n",
              "    <tr>\n",
              "      <th>Date</th>\n",
              "      <th></th>\n",
              "      <th></th>\n",
              "      <th></th>\n",
              "      <th></th>\n",
              "      <th></th>\n",
              "      <th></th>\n",
              "    </tr>\n",
              "  </thead>\n",
              "  <tbody>\n",
              "    <tr>\n",
              "      <th>1995-01-03</th>\n",
              "      <td>15.62500</td>\n",
              "      <td>15.43750</td>\n",
              "      <td>15.46875</td>\n",
              "      <td>15.59375</td>\n",
              "      <td>3318400.0</td>\n",
              "      <td>6.362402</td>\n",
              "    </tr>\n",
              "    <tr>\n",
              "      <th>1995-01-04</th>\n",
              "      <td>15.65625</td>\n",
              "      <td>15.31250</td>\n",
              "      <td>15.53125</td>\n",
              "      <td>15.46875</td>\n",
              "      <td>2218800.0</td>\n",
              "      <td>6.311406</td>\n",
              "    </tr>\n",
              "    <tr>\n",
              "      <th>1995-01-05</th>\n",
              "      <td>15.43750</td>\n",
              "      <td>15.21875</td>\n",
              "      <td>15.37500</td>\n",
              "      <td>15.25000</td>\n",
              "      <td>2319600.0</td>\n",
              "      <td>6.222151</td>\n",
              "    </tr>\n",
              "    <tr>\n",
              "      <th>1995-01-06</th>\n",
              "      <td>15.40625</td>\n",
              "      <td>15.15625</td>\n",
              "      <td>15.15625</td>\n",
              "      <td>15.28125</td>\n",
              "      <td>3438000.0</td>\n",
              "      <td>6.234900</td>\n",
              "    </tr>\n",
              "    <tr>\n",
              "      <th>1995-01-09</th>\n",
              "      <td>15.40625</td>\n",
              "      <td>15.18750</td>\n",
              "      <td>15.34375</td>\n",
              "      <td>15.21875</td>\n",
              "      <td>1795200.0</td>\n",
              "      <td>6.209402</td>\n",
              "    </tr>\n",
              "  </tbody>\n",
              "</table>\n",
              "</div>"
            ],
            "text/plain": [
              "                High       Low      Open     Close     Volume  Adj Close\n",
              "Date                                                                    \n",
              "1995-01-03  15.62500  15.43750  15.46875  15.59375  3318400.0   6.362402\n",
              "1995-01-04  15.65625  15.31250  15.53125  15.46875  2218800.0   6.311406\n",
              "1995-01-05  15.43750  15.21875  15.37500  15.25000  2319600.0   6.222151\n",
              "1995-01-06  15.40625  15.15625  15.15625  15.28125  3438000.0   6.234900\n",
              "1995-01-09  15.40625  15.18750  15.34375  15.21875  1795200.0   6.209402"
            ]
          },
          "metadata": {
            "tags": []
          },
          "execution_count": 12
        }
      ]
    },
    {
      "cell_type": "code",
      "metadata": {
        "id": "OrrTSmWEClgi",
        "colab_type": "code",
        "colab": {
          "base_uri": "https://localhost:8080/",
          "height": 235
        },
        "outputId": "3df6a3a5-578c-4c39-8904-6a3092b826b7"
      },
      "source": [
        "PG.tail()"
      ],
      "execution_count": 13,
      "outputs": [
        {
          "output_type": "execute_result",
          "data": {
            "text/html": [
              "<div>\n",
              "<style scoped>\n",
              "    .dataframe tbody tr th:only-of-type {\n",
              "        vertical-align: middle;\n",
              "    }\n",
              "\n",
              "    .dataframe tbody tr th {\n",
              "        vertical-align: top;\n",
              "    }\n",
              "\n",
              "    .dataframe thead th {\n",
              "        text-align: right;\n",
              "    }\n",
              "</style>\n",
              "<table border=\"1\" class=\"dataframe\">\n",
              "  <thead>\n",
              "    <tr style=\"text-align: right;\">\n",
              "      <th></th>\n",
              "      <th>High</th>\n",
              "      <th>Low</th>\n",
              "      <th>Open</th>\n",
              "      <th>Close</th>\n",
              "      <th>Volume</th>\n",
              "      <th>Adj Close</th>\n",
              "    </tr>\n",
              "    <tr>\n",
              "      <th>Date</th>\n",
              "      <th></th>\n",
              "      <th></th>\n",
              "      <th></th>\n",
              "      <th></th>\n",
              "      <th></th>\n",
              "      <th></th>\n",
              "    </tr>\n",
              "  </thead>\n",
              "  <tbody>\n",
              "    <tr>\n",
              "      <th>2020-03-06</th>\n",
              "      <td>122.610001</td>\n",
              "      <td>117.550003</td>\n",
              "      <td>118.029999</td>\n",
              "      <td>121.660004</td>\n",
              "      <td>9817400.0</td>\n",
              "      <td>121.660004</td>\n",
              "    </tr>\n",
              "    <tr>\n",
              "      <th>2020-03-09</th>\n",
              "      <td>120.029999</td>\n",
              "      <td>115.120003</td>\n",
              "      <td>115.269997</td>\n",
              "      <td>116.059998</td>\n",
              "      <td>13116500.0</td>\n",
              "      <td>116.059998</td>\n",
              "    </tr>\n",
              "    <tr>\n",
              "      <th>2020-03-10</th>\n",
              "      <td>120.820000</td>\n",
              "      <td>114.440002</td>\n",
              "      <td>118.959999</td>\n",
              "      <td>120.550003</td>\n",
              "      <td>11419100.0</td>\n",
              "      <td>120.550003</td>\n",
              "    </tr>\n",
              "    <tr>\n",
              "      <th>2020-03-11</th>\n",
              "      <td>118.440002</td>\n",
              "      <td>110.680000</td>\n",
              "      <td>117.599998</td>\n",
              "      <td>111.589996</td>\n",
              "      <td>16456000.0</td>\n",
              "      <td>111.589996</td>\n",
              "    </tr>\n",
              "    <tr>\n",
              "      <th>2020-03-12</th>\n",
              "      <td>111.580002</td>\n",
              "      <td>101.000000</td>\n",
              "      <td>103.000000</td>\n",
              "      <td>101.839996</td>\n",
              "      <td>20984800.0</td>\n",
              "      <td>101.839996</td>\n",
              "    </tr>\n",
              "  </tbody>\n",
              "</table>\n",
              "</div>"
            ],
            "text/plain": [
              "                  High         Low  ...      Volume   Adj Close\n",
              "Date                                ...                        \n",
              "2020-03-06  122.610001  117.550003  ...   9817400.0  121.660004\n",
              "2020-03-09  120.029999  115.120003  ...  13116500.0  116.059998\n",
              "2020-03-10  120.820000  114.440002  ...  11419100.0  120.550003\n",
              "2020-03-11  118.440002  110.680000  ...  16456000.0  111.589996\n",
              "2020-03-12  111.580002  101.000000  ...  20984800.0  101.839996\n",
              "\n",
              "[5 rows x 6 columns]"
            ]
          },
          "metadata": {
            "tags": []
          },
          "execution_count": 13
        }
      ]
    },
    {
      "cell_type": "markdown",
      "metadata": {
        "id": "Tjw2YjDtCn5J",
        "colab_type": "text"
      },
      "source": [
        "# Simple Rate of Return\n",
        "\n",
        "(P1 - P0) / P0 = (P1 - P0) - 1\n",
        "\n",
        "\n"
      ]
    },
    {
      "cell_type": "code",
      "metadata": {
        "id": "X3caxu1QC3ZX",
        "colab_type": "code",
        "colab": {
          "base_uri": "https://localhost:8080/",
          "height": 238
        },
        "outputId": "10bc2b5a-f9e2-441c-9710-fb743cf35cb7"
      },
      "source": [
        "PG['simple_return'] = (PG['Adj Close'] / PG['Adj Close'].shift(1)) - 1\n",
        "print(PG['simple_return'])"
      ],
      "execution_count": 16,
      "outputs": [
        {
          "output_type": "stream",
          "text": [
            "Date\n",
            "1995-01-03         NaN\n",
            "1995-01-04   -0.008015\n",
            "1995-01-05   -0.014142\n",
            "1995-01-06    0.002049\n",
            "1995-01-09   -0.004090\n",
            "                ...   \n",
            "2020-03-06    0.000247\n",
            "2020-03-09   -0.046030\n",
            "2020-03-10    0.038687\n",
            "2020-03-11   -0.074326\n",
            "2020-03-12   -0.087373\n",
            "Name: simple_return, Length: 6343, dtype: float64\n"
          ],
          "name": "stdout"
        }
      ]
    },
    {
      "cell_type": "code",
      "metadata": {
        "id": "VODS2FQBDTK1",
        "colab_type": "code",
        "colab": {
          "base_uri": "https://localhost:8080/",
          "height": 318
        },
        "outputId": "794c7e11-91fa-4f41-a891-b39d54e32f67"
      },
      "source": [
        "PG['simple_return'].plot(figsize=(8, 5))\n",
        "plt.show()"
      ],
      "execution_count": 18,
      "outputs": [
        {
          "output_type": "display_data",
          "data": {
            "image/png": "[encoded data removed]",
            "text/plain": [
              "<Figure size 576x360 with 1 Axes>"
            ]
          },
          "metadata": {
            "tags": []
          }
        }
      ]
    },
    {
      "cell_type": "code",
      "metadata": {
        "id": "EnU13JbpFUx5",
        "colab_type": "code",
        "colab": {
          "base_uri": "https://localhost:8080/",
          "height": 34
        },
        "outputId": "c5e81e0e-18eb-4f9b-be20-6d58c7b26c4d"
      },
      "source": [
        "avg_returns_d = PG['simple_return'].mean() # Dont take into account the quantity of days in an year\n",
        "avg_returns_d"
      ],
      "execution_count": 21,
      "outputs": [
        {
          "output_type": "execute_result",
          "data": {
            "text/plain": [
              "0.000537319575788548"
            ]
          },
          "metadata": {
            "tags": []
          },
          "execution_count": 21
        }
      ]
    },
    {
      "cell_type": "code",
      "metadata": {
        "id": "6IpM1i6-FF3b",
        "colab_type": "code",
        "colab": {
          "base_uri": "https://localhost:8080/",
          "height": 34
        },
        "outputId": "ba908edd-93e9-4e7a-f1c4-0ca0b3a86104"
      },
      "source": [
        "avg_returns_a = PG['simple_return'].mean() * 250 # 250 number of business day\n",
        "avg_returns_a"
      ],
      "execution_count": 20,
      "outputs": [
        {
          "output_type": "execute_result",
          "data": {
            "text/plain": [
              "0.13432989394713699"
            ]
          },
          "metadata": {
            "tags": []
          },
          "execution_count": 20
        }
      ]
    },
    {
      "cell_type": "code",
      "metadata": {
        "id": "oTHmWRoHDBZG",
        "colab_type": "code",
        "colab": {
          "base_uri": "https://localhost:8080/",
          "height": 34
        },
        "outputId": "074bf47c-67c3-45d8-ec03-ac7d5b3972bc"
      },
      "source": [
        "print(str(round(avg_returns_a, 5) * 100) + '%')"
      ],
      "execution_count": 22,
      "outputs": [
        {
          "output_type": "stream",
          "text": [
            "13.433%\n"
          ],
          "name": "stdout"
        }
      ]
    }
  ]
}