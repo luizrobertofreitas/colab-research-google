{
  "nbformat": 4,
  "nbformat_minor": 0,
  "metadata": {
    "colab": {
      "name": "CovarianciaEntreAtivosExemploComCasas.ipynb",
      "provenance": [],
      "authorship_tag": "ABX9TyPUssb8fc03KT7D77qJBK3p",
      "include_colab_link": true
    },
    "kernelspec": {
      "name": "python3",
      "display_name": "Python 3"
    }
  },
  "cells": [
    {
      "cell_type": "markdown",
      "metadata": {
        "id": "view-in-github",
        "colab_type": "text"
      },
      "source": [
        "<a href=\"https://colab.research.google.com/github/luizrobertofreitas/colab-research-google/blob/master/CovarianciaEntreAtivosExemploComCasas.ipynb\" target=\"_parent\"><img src=\"https://colab.research.google.com/assets/colab-badge.svg\" alt=\"Open In Colab\"/></a>"
      ]
    },
    {
      "cell_type": "markdown",
      "metadata": {
        "id": "Q-GBSVLGW6hY",
        "colab_type": "text"
      },
      "source": [
        "# Covariancia\n",
        "\n",
        "* if Covar > 0 => The two variables move in the same directions\n",
        "* if Covar < 0 => The two variables move in the opposite directions\n",
        "* if Covar < 0 => The two variables are independent\n",
        "\n",
        "### Exemplo com casas"
      ]
    },
    {
      "cell_type": "code",
      "metadata": {
        "id": "qD8wsZFCVfVQ",
        "colab_type": "code",
        "colab": {}
      },
      "source": [
        "import numpy as np\n",
        "import pandas as pd\n",
        "from pandas_datareader import data as wb\n",
        "import matplotlib.pyplot as plt"
      ],
      "execution_count": 0,
      "outputs": []
    },
    {
      "cell_type": "code",
      "metadata": {
        "id": "9kFVxLa8XBIr",
        "colab_type": "code",
        "colab": {}
      },
      "source": [
        "house_sizes = np.array([673, 785, 1334, 699, 975])\n",
        "house_prices = np.array([772.0, 998.0, 999.0, 769.0, 895.0]) * 1000"
      ],
      "execution_count": 0,
      "outputs": []
    },
    {
      "cell_type": "code",
      "metadata": {
        "id": "X935P4cnXUJs",
        "colab_type": "code",
        "colab": {
          "base_uri": "https://localhost:8080/",
          "height": 51
        },
        "outputId": "dfa535aa-4a6e-4a6a-e1e4-ac54136ab33d"
      },
      "source": [
        "sizes_avg = house_sizes.mean()\n",
        "prices_avg = house_prices.mean()\n",
        "print(sizes_avg)\n",
        "print(prices_avg)"
      ],
      "execution_count": 12,
      "outputs": [
        {
          "output_type": "stream",
          "text": [
            "893.2\n",
            "886600.0\n"
          ],
          "name": "stdout"
        }
      ]
    },
    {
      "cell_type": "markdown",
      "metadata": {
        "id": "yeebuIVkYGqd",
        "colab_type": "text"
      },
      "source": [
        "# (x - mean(x)) * (y - mean(y)) / n - 1\n",
        "\n",
        "### x = sizes\n",
        "### y = prices\n",
        "### n = array count"
      ]
    },
    {
      "cell_type": "code",
      "metadata": {
        "id": "iq91yBXlYIpx",
        "colab_type": "code",
        "colab": {
          "base_uri": "https://localhost:8080/",
          "height": 51
        },
        "outputId": "80c4e228-ec6d-4f5e-ee66-1a82fd23d284"
      },
      "source": [
        "cov_numerator = (house_sizes - sizes_avg) * (house_prices - prices_avg)\n",
        "cov_numerator"
      ],
      "execution_count": 16,
      "outputs": [
        {
          "output_type": "execute_result",
          "data": {
            "text/plain": [
              "array([ 25234920.        , -12053480.00000001,  49545919.99999999,\n",
              "        22837920.        ,    687120.        ])"
            ]
          },
          "metadata": {
            "tags": []
          },
          "execution_count": 16
        }
      ]
    },
    {
      "cell_type": "code",
      "metadata": {
        "id": "Jtda6b34ZfQL",
        "colab_type": "code",
        "colab": {
          "base_uri": "https://localhost:8080/",
          "height": 34
        },
        "outputId": "7e7f2b9a-41d2-4bfc-d688-9302e2dc0e4f"
      },
      "source": [
        "cov_numerator_sum = cov_numerator.sum()\n",
        "print(\"Cov Numerator sum: \" + str(cov_numerator_sum))"
      ],
      "execution_count": 28,
      "outputs": [
        {
          "output_type": "stream",
          "text": [
            "Cov Numerator sum: 86252400.0\n"
          ],
          "name": "stdout"
        }
      ]
    },
    {
      "cell_type": "code",
      "metadata": {
        "id": "k4Vsr07_aPEN",
        "colab_type": "code",
        "colab": {}
      },
      "source": [
        "n = len(cov_numerator)"
      ],
      "execution_count": 0,
      "outputs": []
    },
    {
      "cell_type": "code",
      "metadata": {
        "id": "niDRza67Zzoy",
        "colab_type": "code",
        "colab": {
          "base_uri": "https://localhost:8080/",
          "height": 34
        },
        "outputId": "46118674-37fe-47d4-de73-0c7e039c7eb1"
      },
      "source": [
        "covariance = cov_numerator_sum / (n - 1)\n",
        "print(\"Cov: \" + str(covariance))"
      ],
      "execution_count": 27,
      "outputs": [
        {
          "output_type": "stream",
          "text": [
            "Cov: 21563100.0\n"
          ],
          "name": "stdout"
        }
      ]
    }
  ]
}