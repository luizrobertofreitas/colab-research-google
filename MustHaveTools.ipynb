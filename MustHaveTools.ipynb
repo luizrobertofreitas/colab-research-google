{
  "nbformat": 4,
  "nbformat_minor": 0,
  "metadata": {
    "colab": {
      "name": "MustHaveTools.ipynb",
      "provenance": [],
      "collapsed_sections": [],
      "authorship_tag": "ABX9TyMMTy2brzznEGUX+Tzvom9d",
      "include_colab_link": true
    },
    "kernelspec": {
      "name": "python3",
      "display_name": "Python 3"
    }
  },
  "cells": [
    {
      "cell_type": "markdown",
      "metadata": {
        "id": "view-in-github",
        "colab_type": "text"
      },
      "source": [
        "<a href=\"https://colab.research.google.com/github/luizrobertofreitas/colab-research-google/blob/master/MustHaveTools.ipynb\" target=\"_parent\"><img src=\"https://colab.research.google.com/assets/colab-badge.svg\" alt=\"Open In Colab\"/></a>"
      ]
    },
    {
      "cell_type": "code",
      "metadata": {
        "id": "yGmEVqpAou2D",
        "colab_type": "code",
        "colab": {}
      },
      "source": [
        "# scipy libs\n",
        "import numpy\n",
        "import pandas\n",
        "import matplotlib\n",
        "import math\n",
        "import random\n",
        "import statsmodels\n",
        "import pandas_datareader"
      ],
      "execution_count": 0,
      "outputs": []
    }
  ]
}