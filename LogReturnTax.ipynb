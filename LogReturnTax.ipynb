{
  "nbformat": 4,
  "nbformat_minor": 0,
  "metadata": {
    "colab": {
      "name": "LogReturnTax.ipynb",
      "provenance": [],
      "collapsed_sections": [],
      "authorship_tag": "ABX9TyO1pmV7lszm+wYvmGWEbvo4",
      "include_colab_link": true
    },
    "kernelspec": {
      "name": "python3",
      "display_name": "Python 3"
    }
  },
  "cells": [
    {
      "cell_type": "markdown",
      "metadata": {
        "id": "view-in-github",
        "colab_type": "text"
      },
      "source": [
        "<a href=\"https://colab.research.google.com/github/luizrobertofreitas/colab-research-google/blob/master/LogReturnTax.ipynb\" target=\"_parent\"><img src=\"https://colab.research.google.com/assets/colab-badge.svg\" alt=\"Open In Colab\"/></a>"
      ]
    },
    {
      "cell_type": "markdown",
      "metadata": {
        "id": "s9g04lxpGa9k",
        "colab_type": "text"
      },
      "source": [
        "# Log Returns\n",
        "\n",
        "ln(P1 / P)"
      ]
    },
    {
      "cell_type": "code",
      "metadata": {
        "id": "2ja_1ZYwGOiu",
        "colab_type": "code",
        "colab": {}
      },
      "source": [
        "import numpy as np\n",
        "from pandas_datareader import data as wb\n",
        "import matplotlib.pyplot as plt"
      ],
      "execution_count": 0,
      "outputs": []
    },
    {
      "cell_type": "code",
      "metadata": {
        "id": "NyoEyrKFGv76",
        "colab_type": "code",
        "colab": {}
      },
      "source": [
        "PG = wb.DataReader('PG', data_source='yahoo', start='1995-1-1')"
      ],
      "execution_count": 0,
      "outputs": []
    },
    {
      "cell_type": "code",
      "metadata": {
        "id": "8MmLJPyQGwfD",
        "colab_type": "code",
        "colab": {
          "base_uri": "https://localhost:8080/",
          "height": 238
        },
        "outputId": "4e70f2b2-f362-42aa-c6b3-694972e504f4"
      },
      "source": [
        "PG['log_return'] = np.log(PG['Adj Close'] / PG['Adj Close'].shift(1))\n",
        "print(PG['log_return'])"
      ],
      "execution_count": 3,
      "outputs": [
        {
          "output_type": "stream",
          "text": [
            "Date\n",
            "1995-01-03         NaN\n",
            "1995-01-04   -0.008047\n",
            "1995-01-05   -0.014243\n",
            "1995-01-06    0.002047\n",
            "1995-01-09   -0.004098\n",
            "                ...   \n",
            "2020-03-06    0.000247\n",
            "2020-03-09   -0.047123\n",
            "2020-03-10    0.037957\n",
            "2020-03-11   -0.077233\n",
            "2020-03-12   -0.091428\n",
            "Name: log_return, Length: 6343, dtype: float64\n"
          ],
          "name": "stdout"
        }
      ]
    },
    {
      "cell_type": "code",
      "metadata": {
        "id": "HJ6TmckOG9ZT",
        "colab_type": "code",
        "colab": {
          "base_uri": "https://localhost:8080/",
          "height": 318
        },
        "outputId": "c825cd68-e52d-4779-e4f1-13b53213d1b0"
      },
      "source": [
        "PG['log_return'].plot(figsize=(8, 5))\n",
        "plt.show()"
      ],
      "execution_count": 5,
      "outputs": [
        {
          "output_type": "display_data",
          "data": {
            "image/png": "[encoded data removed]",
            "text/plain": [
              "<Figure size 576x360 with 1 Axes>"
            ]
          },
          "metadata": {
            "tags": []
          }
        }
      ]
    },
    {
      "cell_type": "code",
      "metadata": {
        "id": "Oo4-Bk3nHECs",
        "colab_type": "code",
        "colab": {
          "base_uri": "https://localhost:8080/",
          "height": 34
        },
        "outputId": "a556d3f3-b2ed-4688-d6de-74488db4ecd6"
      },
      "source": [
        "log_return_d = PG['log_return'].mean()\n",
        "log_return_d"
      ],
      "execution_count": 8,
      "outputs": [
        {
          "output_type": "execute_result",
          "data": {
            "text/plain": [
              "0.00043724329000484173"
            ]
          },
          "metadata": {
            "tags": []
          },
          "execution_count": 8
        }
      ]
    },
    {
      "cell_type": "code",
      "metadata": {
        "id": "gVgGtp-GHOPn",
        "colab_type": "code",
        "colab": {
          "base_uri": "https://localhost:8080/",
          "height": 34
        },
        "outputId": "c3298d77-e8a4-45be-b563-a23a7ed732f8"
      },
      "source": [
        "log_return_a = PG['log_return'].mean() * 250\n",
        "log_return_a"
      ],
      "execution_count": 10,
      "outputs": [
        {
          "output_type": "execute_result",
          "data": {
            "text/plain": [
              "0.10931082250121044"
            ]
          },
          "metadata": {
            "tags": []
          },
          "execution_count": 10
        }
      ]
    },
    {
      "cell_type": "code",
      "metadata": {
        "id": "fT-i6UWzHYw_",
        "colab_type": "code",
        "colab": {
          "base_uri": "https://localhost:8080/",
          "height": 34
        },
        "outputId": "f4d10977-1e70-4e29-9c80-38a55800a69e"
      },
      "source": [
        "print(str(round(log_return_a, 5) * 100) + '%')"
      ],
      "execution_count": 12,
      "outputs": [
        {
          "output_type": "stream",
          "text": [
            "10.931000000000001%\n"
          ],
          "name": "stdout"
        }
      ]
    }
  ]
}