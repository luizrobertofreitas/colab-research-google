{
  "nbformat": 4,
  "nbformat_minor": 0,
  "metadata": {
    "colab": {
      "name": "PortifolioReturnTax2.ipynb",
      "provenance": [],
      "authorship_tag": "ABX9TyP7Pl+skAm4xrelypBbEQAo",
      "include_colab_link": true
    },
    "kernelspec": {
      "name": "python3",
      "display_name": "Python 3"
    }
  },
  "cells": [
    {
      "cell_type": "markdown",
      "metadata": {
        "id": "view-in-github",
        "colab_type": "text"
      },
      "source": [
        "<a href=\"https://colab.research.google.com/github/luizrobertofreitas/colab-research-google/blob/master/PortifolioReturnTax2.ipynb\" target=\"_parent\"><img src=\"https://colab.research.google.com/assets/colab-badge.svg\" alt=\"Open In Colab\"/></a>"
      ]
    },
    {
      "cell_type": "code",
      "metadata": {
        "id": "4bGxkfpnpuw5",
        "colab_type": "code",
        "colab": {}
      },
      "source": [
        "import numpy as np\n",
        "import pandas as pd\n",
        "from pandas_datareader import data as wb\n",
        "import matplotlib.pyplot as plt"
      ],
      "execution_count": 0,
      "outputs": []
    },
    {
      "cell_type": "code",
      "metadata": {
        "id": "FO4QEMa_p0tn",
        "colab_type": "code",
        "colab": {}
      },
      "source": [
        "tickers = ['PG', 'MSFT', 'F', 'GE']\n",
        "mydata = pd.DataFrame()\n",
        "for t in tickers:\n",
        "  mydata[t] = wb.DataReader(t, data_source='yahoo', start='1995-1-1')['Adj Close']"
      ],
      "execution_count": 0,
      "outputs": []
    },
    {
      "cell_type": "code",
      "metadata": {
        "id": "PWPwWXb0qDr4",
        "colab_type": "code",
        "colab": {
          "base_uri": "https://localhost:8080/",
          "height": 170
        },
        "outputId": "f82876c0-018e-4c3d-c401-712eca6f0cd5"
      },
      "source": [
        "mydata.info()"
      ],
      "execution_count": 5,
      "outputs": [
        {
          "output_type": "stream",
          "text": [
            "<class 'pandas.core.frame.DataFrame'>\n",
            "DatetimeIndex: 6346 entries, 1995-01-03 to 2020-03-17\n",
            "Data columns (total 4 columns):\n",
            "PG      6346 non-null float64\n",
            "MSFT    6346 non-null float64\n",
            "F       6346 non-null float64\n",
            "GE      6346 non-null float64\n",
            "dtypes: float64(4)\n",
            "memory usage: 247.9 KB\n"
          ],
          "name": "stdout"
        }
      ]
    },
    {
      "cell_type": "code",
      "metadata": {
        "id": "vYVsV4laqJ0N",
        "colab_type": "code",
        "colab": {
          "base_uri": "https://localhost:8080/",
          "height": 235
        },
        "outputId": "f2ea79a6-d6fb-4dbd-d7b0-d1c95a1d38e5"
      },
      "source": [
        "mydata.head()"
      ],
      "execution_count": 6,
      "outputs": [
        {
          "output_type": "execute_result",
          "data": {
            "text/html": [
              "<div>\n",
              "<style scoped>\n",
              "    .dataframe tbody tr th:only-of-type {\n",
              "        vertical-align: middle;\n",
              "    }\n",
              "\n",
              "    .dataframe tbody tr th {\n",
              "        vertical-align: top;\n",
              "    }\n",
              "\n",
              "    .dataframe thead th {\n",
              "        text-align: right;\n",
              "    }\n",
              "</style>\n",
              "<table border=\"1\" class=\"dataframe\">\n",
              "  <thead>\n",
              "    <tr style=\"text-align: right;\">\n",
              "      <th></th>\n",
              "      <th>PG</th>\n",
              "      <th>MSFT</th>\n",
              "      <th>F</th>\n",
              "      <th>GE</th>\n",
              "    </tr>\n",
              "    <tr>\n",
              "      <th>Date</th>\n",
              "      <th></th>\n",
              "      <th></th>\n",
              "      <th></th>\n",
              "      <th></th>\n",
              "    </tr>\n",
              "  </thead>\n",
              "  <tbody>\n",
              "    <tr>\n",
              "      <th>1995-01-03</th>\n",
              "      <td>6.362402</td>\n",
              "      <td>2.413537</td>\n",
              "      <td>3.200019</td>\n",
              "      <td>2.729230</td>\n",
              "    </tr>\n",
              "    <tr>\n",
              "      <th>1995-01-04</th>\n",
              "      <td>6.311406</td>\n",
              "      <td>2.431082</td>\n",
              "      <td>3.286119</td>\n",
              "      <td>2.729230</td>\n",
              "    </tr>\n",
              "    <tr>\n",
              "      <th>1995-01-05</th>\n",
              "      <td>6.222151</td>\n",
              "      <td>2.390982</td>\n",
              "      <td>3.257418</td>\n",
              "      <td>2.735919</td>\n",
              "    </tr>\n",
              "    <tr>\n",
              "      <th>1995-01-06</th>\n",
              "      <td>6.234900</td>\n",
              "      <td>2.431082</td>\n",
              "      <td>3.257418</td>\n",
              "      <td>2.722540</td>\n",
              "    </tr>\n",
              "    <tr>\n",
              "      <th>1995-01-09</th>\n",
              "      <td>6.209402</td>\n",
              "      <td>2.416045</td>\n",
              "      <td>3.314818</td>\n",
              "      <td>2.695783</td>\n",
              "    </tr>\n",
              "  </tbody>\n",
              "</table>\n",
              "</div>"
            ],
            "text/plain": [
              "                  PG      MSFT         F        GE\n",
              "Date                                              \n",
              "1995-01-03  6.362402  2.413537  3.200019  2.729230\n",
              "1995-01-04  6.311406  2.431082  3.286119  2.729230\n",
              "1995-01-05  6.222151  2.390982  3.257418  2.735919\n",
              "1995-01-06  6.234900  2.431082  3.257418  2.722540\n",
              "1995-01-09  6.209402  2.416045  3.314818  2.695783"
            ]
          },
          "metadata": {
            "tags": []
          },
          "execution_count": 6
        }
      ]
    },
    {
      "cell_type": "code",
      "metadata": {
        "id": "3_VTLBSxqK22",
        "colab_type": "code",
        "colab": {
          "base_uri": "https://localhost:8080/",
          "height": 235
        },
        "outputId": "3e574e80-71e6-401c-b99f-26c79733115a"
      },
      "source": [
        "mydata.tail()"
      ],
      "execution_count": 7,
      "outputs": [
        {
          "output_type": "execute_result",
          "data": {
            "text/html": [
              "<div>\n",
              "<style scoped>\n",
              "    .dataframe tbody tr th:only-of-type {\n",
              "        vertical-align: middle;\n",
              "    }\n",
              "\n",
              "    .dataframe tbody tr th {\n",
              "        vertical-align: top;\n",
              "    }\n",
              "\n",
              "    .dataframe thead th {\n",
              "        text-align: right;\n",
              "    }\n",
              "</style>\n",
              "<table border=\"1\" class=\"dataframe\">\n",
              "  <thead>\n",
              "    <tr style=\"text-align: right;\">\n",
              "      <th></th>\n",
              "      <th>PG</th>\n",
              "      <th>MSFT</th>\n",
              "      <th>F</th>\n",
              "      <th>GE</th>\n",
              "    </tr>\n",
              "    <tr>\n",
              "      <th>Date</th>\n",
              "      <th></th>\n",
              "      <th></th>\n",
              "      <th></th>\n",
              "      <th></th>\n",
              "    </tr>\n",
              "  </thead>\n",
              "  <tbody>\n",
              "    <tr>\n",
              "      <th>2020-03-11</th>\n",
              "      <td>111.589996</td>\n",
              "      <td>153.630005</td>\n",
              "      <td>5.90</td>\n",
              "      <td>8.21</td>\n",
              "    </tr>\n",
              "    <tr>\n",
              "      <th>2020-03-12</th>\n",
              "      <td>101.839996</td>\n",
              "      <td>139.059998</td>\n",
              "      <td>5.35</td>\n",
              "      <td>7.23</td>\n",
              "    </tr>\n",
              "    <tr>\n",
              "      <th>2020-03-13</th>\n",
              "      <td>114.070000</td>\n",
              "      <td>158.830002</td>\n",
              "      <td>5.63</td>\n",
              "      <td>7.85</td>\n",
              "    </tr>\n",
              "    <tr>\n",
              "      <th>2020-03-16</th>\n",
              "      <td>108.500000</td>\n",
              "      <td>135.419998</td>\n",
              "      <td>5.01</td>\n",
              "      <td>6.66</td>\n",
              "    </tr>\n",
              "    <tr>\n",
              "      <th>2020-03-17</th>\n",
              "      <td>118.239998</td>\n",
              "      <td>146.570007</td>\n",
              "      <td>5.01</td>\n",
              "      <td>7.08</td>\n",
              "    </tr>\n",
              "  </tbody>\n",
              "</table>\n",
              "</div>"
            ],
            "text/plain": [
              "                    PG        MSFT     F    GE\n",
              "Date                                          \n",
              "2020-03-11  111.589996  153.630005  5.90  8.21\n",
              "2020-03-12  101.839996  139.059998  5.35  7.23\n",
              "2020-03-13  114.070000  158.830002  5.63  7.85\n",
              "2020-03-16  108.500000  135.419998  5.01  6.66\n",
              "2020-03-17  118.239998  146.570007  5.01  7.08"
            ]
          },
          "metadata": {
            "tags": []
          },
          "execution_count": 7
        }
      ]
    },
    {
      "cell_type": "markdown",
      "metadata": {
        "id": "nq27KI1GqTVD",
        "colab_type": "text"
      },
      "source": [
        "# Normalization to 100\n",
        "\n",
        "(P1/P0) * 100"
      ]
    },
    {
      "cell_type": "code",
      "metadata": {
        "id": "qT_70oYLqamZ",
        "colab_type": "code",
        "colab": {
          "base_uri": "https://localhost:8080/",
          "height": 102
        },
        "outputId": "4127253b-515d-4900-f121-8f74c82b0c44"
      },
      "source": [
        "mydata.iloc[0]"
      ],
      "execution_count": 8,
      "outputs": [
        {
          "output_type": "execute_result",
          "data": {
            "text/plain": [
              "PG      6.362402\n",
              "MSFT    2.413537\n",
              "F       3.200019\n",
              "GE      2.729230\n",
              "Name: 1995-01-03 00:00:00, dtype: float64"
            ]
          },
          "metadata": {
            "tags": []
          },
          "execution_count": 8
        }
      ]
    },
    {
      "cell_type": "code",
      "metadata": {
        "id": "jP6dsUXXqdc4",
        "colab_type": "code",
        "colab": {
          "base_uri": "https://localhost:8080/",
          "height": 387
        },
        "outputId": "b222fdd0-e251-4f9f-eca2-8587f4349783"
      },
      "source": [
        "(mydata / mydata.iloc[0] * 100).plot(figsize = (15, 6))\n",
        "plt.show()"
      ],
      "execution_count": 9,
      "outputs": [
        {
          "output_type": "display_data",
          "data": {
            "image/png": "[encoded data removed]",
            "text/plain": [
              "<Figure size 1080x432 with 1 Axes>"
            ]
          },
          "metadata": {
            "tags": []
          }
        }
      ]
    },
    {
      "cell_type": "code",
      "metadata": {
        "id": "cHW1I5NHqnn8",
        "colab_type": "code",
        "colab": {
          "base_uri": "https://localhost:8080/",
          "height": 404
        },
        "outputId": "a3589472-ae90-439b-eb09-572a4d0fcdf8"
      },
      "source": [
        "mydata.plot(figsize=(15,6))"
      ],
      "execution_count": 10,
      "outputs": [
        {
          "output_type": "execute_result",
          "data": {
            "text/plain": [
              "<matplotlib.axes._subplots.AxesSubplot at 0x7f00b4ffc2e8>"
            ]
          },
          "metadata": {
            "tags": []
          },
          "execution_count": 10
        },
        {
          "output_type": "display_data",
          "data": {
            "image/png": "[encoded data removed]",
            "text/plain": [
              "<Figure size 1080x432 with 1 Axes>"
            ]
          },
          "metadata": {
            "tags": []
          }
        }
      ]
    },
    {
      "cell_type": "code",
      "metadata": {
        "id": "2kKHe4Swqs3X",
        "colab_type": "code",
        "colab": {
          "base_uri": "https://localhost:8080/",
          "height": 102
        },
        "outputId": "fd075b8e-56b6-4308-a349-9e32e28eaef9"
      },
      "source": [
        "mydata.loc['1995-01-03']"
      ],
      "execution_count": 11,
      "outputs": [
        {
          "output_type": "execute_result",
          "data": {
            "text/plain": [
              "PG      6.362402\n",
              "MSFT    2.413537\n",
              "F       3.200019\n",
              "GE      2.729230\n",
              "Name: 1995-01-03 00:00:00, dtype: float64"
            ]
          },
          "metadata": {
            "tags": []
          },
          "execution_count": 11
        }
      ]
    },
    {
      "cell_type": "markdown",
      "metadata": {
        "id": "lkgZgpa-rDc8",
        "colab_type": "text"
      },
      "source": [
        "# Calculating the return of a portifolio of securities"
      ]
    },
    {
      "cell_type": "code",
      "metadata": {
        "id": "Djb1PS0ircSL",
        "colab_type": "code",
        "colab": {
          "base_uri": "https://localhost:8080/",
          "height": 235
        },
        "outputId": "71d388f6-a37c-4987-d12a-5e4a4e50c092"
      },
      "source": [
        "returns = (mydata / mydata.shift(1)) - 1\n",
        "returns.head()"
      ],
      "execution_count": 13,
      "outputs": [
        {
          "output_type": "execute_result",
          "data": {
            "text/html": [
              "<div>\n",
              "<style scoped>\n",
              "    .dataframe tbody tr th:only-of-type {\n",
              "        vertical-align: middle;\n",
              "    }\n",
              "\n",
              "    .dataframe tbody tr th {\n",
              "        vertical-align: top;\n",
              "    }\n",
              "\n",
              "    .dataframe thead th {\n",
              "        text-align: right;\n",
              "    }\n",
              "</style>\n",
              "<table border=\"1\" class=\"dataframe\">\n",
              "  <thead>\n",
              "    <tr style=\"text-align: right;\">\n",
              "      <th></th>\n",
              "      <th>PG</th>\n",
              "      <th>MSFT</th>\n",
              "      <th>F</th>\n",
              "      <th>GE</th>\n",
              "    </tr>\n",
              "    <tr>\n",
              "      <th>Date</th>\n",
              "      <th></th>\n",
              "      <th></th>\n",
              "      <th></th>\n",
              "      <th></th>\n",
              "    </tr>\n",
              "  </thead>\n",
              "  <tbody>\n",
              "    <tr>\n",
              "      <th>1995-01-03</th>\n",
              "      <td>NaN</td>\n",
              "      <td>NaN</td>\n",
              "      <td>NaN</td>\n",
              "      <td>NaN</td>\n",
              "    </tr>\n",
              "    <tr>\n",
              "      <th>1995-01-04</th>\n",
              "      <td>-0.008015</td>\n",
              "      <td>0.007269</td>\n",
              "      <td>0.026906</td>\n",
              "      <td>0.000000</td>\n",
              "    </tr>\n",
              "    <tr>\n",
              "      <th>1995-01-05</th>\n",
              "      <td>-0.014142</td>\n",
              "      <td>-0.016495</td>\n",
              "      <td>-0.008734</td>\n",
              "      <td>0.002451</td>\n",
              "    </tr>\n",
              "    <tr>\n",
              "      <th>1995-01-06</th>\n",
              "      <td>0.002049</td>\n",
              "      <td>0.016771</td>\n",
              "      <td>0.000000</td>\n",
              "      <td>-0.004890</td>\n",
              "    </tr>\n",
              "    <tr>\n",
              "      <th>1995-01-09</th>\n",
              "      <td>-0.004090</td>\n",
              "      <td>-0.006185</td>\n",
              "      <td>0.017621</td>\n",
              "      <td>-0.009828</td>\n",
              "    </tr>\n",
              "  </tbody>\n",
              "</table>\n",
              "</div>"
            ],
            "text/plain": [
              "                  PG      MSFT         F        GE\n",
              "Date                                              \n",
              "1995-01-03       NaN       NaN       NaN       NaN\n",
              "1995-01-04 -0.008015  0.007269  0.026906  0.000000\n",
              "1995-01-05 -0.014142 -0.016495 -0.008734  0.002451\n",
              "1995-01-06  0.002049  0.016771  0.000000 -0.004890\n",
              "1995-01-09 -0.004090 -0.006185  0.017621 -0.009828"
            ]
          },
          "metadata": {
            "tags": []
          },
          "execution_count": 13
        }
      ]
    },
    {
      "cell_type": "code",
      "metadata": {
        "id": "Vb1bFL8Grk-5",
        "colab_type": "code",
        "colab": {}
      },
      "source": [
        "weights = np.array([0.25, 0.25, 0.25, 0.25])"
      ],
      "execution_count": 0,
      "outputs": []
    },
    {
      "cell_type": "code",
      "metadata": {
        "id": "e9qJox4Urr7g",
        "colab_type": "code",
        "colab": {
          "base_uri": "https://localhost:8080/",
          "height": 51
        },
        "outputId": "2c264aae-f69b-4722-81f2-54cf61d6ac81"
      },
      "source": [
        "np.dot(returns, weights) # multiply returns by weights"
      ],
      "execution_count": 18,
      "outputs": [
        {
          "output_type": "execute_result",
          "data": {
            "text/plain": [
              "array([        nan,  0.00654002, -0.00923   , ...,  0.10008738,\n",
              "       -0.11448416,  0.05879229])"
            ]
          },
          "metadata": {
            "tags": []
          },
          "execution_count": 18
        }
      ]
    },
    {
      "cell_type": "code",
      "metadata": {
        "id": "z54A-ZJpsC_B",
        "colab_type": "code",
        "colab": {
          "base_uri": "https://localhost:8080/",
          "height": 102
        },
        "outputId": "d20348f0-2ba8-42d6-e169-58bb8032010d"
      },
      "source": [
        "annual_returns = returns.mean() * 250\n",
        "annual_returns"
      ],
      "execution_count": 20,
      "outputs": [
        {
          "output_type": "execute_result",
          "data": {
            "text/plain": [
              "PG      0.140611\n",
              "MSFT    0.211459\n",
              "F       0.095001\n",
              "GE      0.085327\n",
              "dtype: float64"
            ]
          },
          "metadata": {
            "tags": []
          },
          "execution_count": 20
        }
      ]
    },
    {
      "cell_type": "code",
      "metadata": {
        "id": "kr8lWB2zsMdW",
        "colab_type": "code",
        "colab": {
          "base_uri": "https://localhost:8080/",
          "height": 34
        },
        "outputId": "956d4062-3e25-4064-8f5d-86016264f02e"
      },
      "source": [
        "np.dot(annual_returns, weights)"
      ],
      "execution_count": 22,
      "outputs": [
        {
          "output_type": "execute_result",
          "data": {
            "text/plain": [
              "0.13309946266433875"
            ]
          },
          "metadata": {
            "tags": []
          },
          "execution_count": 22
        }
      ]
    },
    {
      "cell_type": "code",
      "metadata": {
        "id": "hmlRlYchsPrp",
        "colab_type": "code",
        "colab": {
          "base_uri": "https://localhost:8080/",
          "height": 34
        },
        "outputId": "71320d26-6eab-459d-c5d8-dc5f07b99425"
      },
      "source": [
        "pfolio_1 = str(round(np.dot(annual_returns, weights), 5) * 100) + '%'\n",
        "print(pfolio_1)"
      ],
      "execution_count": 26,
      "outputs": [
        {
          "output_type": "stream",
          "text": [
            "13.309999999999999%\n"
          ],
          "name": "stdout"
        }
      ]
    },
    {
      "cell_type": "code",
      "metadata": {
        "id": "lamfjfb_sksm",
        "colab_type": "code",
        "colab": {}
      },
      "source": [
        "weights_2 = np.array([0.4, 0.4, 0.15, 0.05])"
      ],
      "execution_count": 0,
      "outputs": []
    },
    {
      "cell_type": "code",
      "metadata": {
        "id": "CcTdzm5ns5b3",
        "colab_type": "code",
        "colab": {
          "base_uri": "https://localhost:8080/",
          "height": 51
        },
        "outputId": "ce8084e6-2676-4b22-dba0-d7ba65055ff3"
      },
      "source": [
        "pfolio_2 = str(round(np.dot(annual_returns, weights_2), 5) * 100) + '%'\n",
        "print(pfolio_1)\n",
        "print(pfolio_2)"
      ],
      "execution_count": 28,
      "outputs": [
        {
          "output_type": "stream",
          "text": [
            "13.309999999999999%\n",
            "15.934000000000001%\n"
          ],
          "name": "stdout"
        }
      ]
    },
    {
      "cell_type": "code",
      "metadata": {
        "id": "AzUGXKwQr18L",
        "colab_type": "code",
        "colab": {}
      },
      "source": [
        ""
      ],
      "execution_count": 0,
      "outputs": []
    }
  ]
}