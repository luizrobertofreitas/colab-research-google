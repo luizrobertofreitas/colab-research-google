{
  "nbformat": 4,
  "nbformat_minor": 0,
  "metadata": {
    "colab": {
      "name": "PortifolioReturnTax.ipynb",
      "provenance": [],
      "authorship_tag": "ABX9TyPkRDSwi1B7nTSDgT6HH4TN",
      "include_colab_link": true
    },
    "kernelspec": {
      "name": "python3",
      "display_name": "Python 3"
    }
  },
  "cells": [
    {
      "cell_type": "markdown",
      "metadata": {
        "id": "view-in-github",
        "colab_type": "text"
      },
      "source": [
        "<a href=\"https://colab.research.google.com/github/luizrobertofreitas/colab-research-google/blob/master/PortifolioReturnTax.ipynb\" target=\"_parent\"><img src=\"https://colab.research.google.com/assets/colab-badge.svg\" alt=\"Open In Colab\"/></a>"
      ]
    },
    {
      "cell_type": "markdown",
      "metadata": {
        "id": "oBO8WyLFKr-C",
        "colab_type": "text"
      },
      "source": [
        "### Calculando a taxa de retorno do portifólio\n",
        "\n",
        "Ticker   Retorno    Peso\n",
        "APPL  ~  0,318524   25%\n",
        "IBM   ~  0,153581   25%\n",
        "GE    ~  0,116717   25%\n",
        "FORD  ~  0,126224   25%\n",
        "\n",
        "`tx ret ticker * peso no portifólio`"
      ]
    },
    {
      "cell_type": "code",
      "metadata": {
        "id": "I4jYR7yvKmZn",
        "colab_type": "code",
        "colab": {}
      },
      "source": [
        "import numpy as np\n",
        "from pandas_datareader import data as wb\n",
        "import matplotlib.pyplot as plt"
      ],
      "execution_count": 0,
      "outputs": []
    },
    {
      "cell_type": "code",
      "metadata": {
        "id": "SpOfmxMvLeJG",
        "colab_type": "code",
        "colab": {}
      },
      "source": [
        "AAPL = wb.DataReader('AAPL', data_source='yahoo', start='1995-1-1')"
      ],
      "execution_count": 0,
      "outputs": []
    },
    {
      "cell_type": "code",
      "metadata": {
        "id": "uMsfDMS-La8n",
        "colab_type": "code",
        "colab": {}
      },
      "source": [
        "IBM = wb.DataReader('IBM', data_source='yahoo', start='1995-1-1')"
      ],
      "execution_count": 0,
      "outputs": []
    },
    {
      "cell_type": "code",
      "metadata": {
        "id": "1w4RcMH1L5o5",
        "colab_type": "code",
        "colab": {}
      },
      "source": [
        "F = wb.DataReader('F', data_source='yahoo', start='1995-1-1')"
      ],
      "execution_count": 0,
      "outputs": []
    },
    {
      "cell_type": "code",
      "metadata": {
        "id": "Kb-ssz1aLz1F",
        "colab_type": "code",
        "colab": {}
      },
      "source": [
        "GE = wb.DataReader('GE', data_source='yahoo', start='1995-1-1')"
      ],
      "execution_count": 0,
      "outputs": []
    },
    {
      "cell_type": "code",
      "metadata": {
        "id": "8zuRZSYpMBs6",
        "colab_type": "code",
        "colab": {
          "base_uri": "https://localhost:8080/",
          "height": 34
        },
        "outputId": "85e20c18-1ecd-4cd4-aaaa-d055265bf57f"
      },
      "source": [
        "AAPL['simple_return'] = (AAPL['Adj Close'] / AAPL['Adj Close'].shift(1)) - 1\n",
        "avg_returns_aapl = AAPL['simple_return'].mean() * 250\n",
        "weight_aapl = 0.25\n",
        "weight_aapl_in_portifolio = avg_returns_aapl * weight_aapl\n",
        "print(str(avg_returns_aapl) + \" -- \" + str(weight_aapl_in_portifolio))"
      ],
      "execution_count": 7,
      "outputs": [
        {
          "output_type": "stream",
          "text": [
            "0.31096323200384174 -- 0.07774080800096043\n"
          ],
          "name": "stdout"
        }
      ]
    },
    {
      "cell_type": "code",
      "metadata": {
        "id": "zhZlh3feM7Mh",
        "colab_type": "code",
        "colab": {}
      },
      "source": [
        ""
      ],
      "execution_count": 0,
      "outputs": []
    },
    {
      "cell_type": "code",
      "metadata": {
        "id": "yZLXmEMlMVVg",
        "colab_type": "code",
        "colab": {
          "base_uri": "https://localhost:8080/",
          "height": 34
        },
        "outputId": "ed97520d-38e2-48f6-f580-e76d3bcd1b6a"
      },
      "source": [
        "IBM['simple_return'] = (IBM['Adj Close'] / IBM['Adj Close'].shift(1)) - 1\n",
        "avg_returns_ibm = IBM['simple_return'].mean() * 250\n",
        "weight_ibm = 0.25\n",
        "weight_ibm_in_portifolio = avg_returns_ibm * weight_ibm\n",
        "print(str(avg_returns_ibm) + \" -- \" + str(weight_ibm_in_portifolio))"
      ],
      "execution_count": 8,
      "outputs": [
        {
          "output_type": "stream",
          "text": [
            "0.1296744307770213 -- 0.03241860769425532\n"
          ],
          "name": "stdout"
        }
      ]
    },
    {
      "cell_type": "code",
      "metadata": {
        "id": "lq1VoHaOMiNy",
        "colab_type": "code",
        "colab": {
          "base_uri": "https://localhost:8080/",
          "height": 34
        },
        "outputId": "510f261b-6863-416e-da8f-7492990aba32"
      },
      "source": [
        "F['simple_return'] = (F['Adj Close'] / F['Adj Close'].shift(1)) - 1\n",
        "avg_returns_f = F['simple_return'].mean() * 250\n",
        "weight_f = 0.25\n",
        "weight_f_in_portifolio = avg_returns_f * weight_f\n",
        "print(str(avg_returns_f) + \" -- \" + str(weight_f_in_portifolio))"
      ],
      "execution_count": 9,
      "outputs": [
        {
          "output_type": "stream",
          "text": [
            "0.09500060477832833 -- 0.023750151194582084\n"
          ],
          "name": "stdout"
        }
      ]
    },
    {
      "cell_type": "code",
      "metadata": {
        "id": "EqYw8PTUMmhc",
        "colab_type": "code",
        "colab": {
          "base_uri": "https://localhost:8080/",
          "height": 34
        },
        "outputId": "9defb3a8-0dc3-4b75-e3c8-d5950a1e2a84"
      },
      "source": [
        "GE['simple_return'] = (GE['Adj Close'] / GE['Adj Close'].shift(1)) - 1\n",
        "avg_returns_ge = GE['simple_return'].mean() * 250\n",
        "weight_ge = 0.25\n",
        "weight_ge_in_portifolio = avg_returns_ge * weight_ge\n",
        "print(str(avg_returns_ge) + \" -- \" + str(weight_ge_in_portifolio))"
      ],
      "execution_count": 10,
      "outputs": [
        {
          "output_type": "stream",
          "text": [
            "0.08532701124520378 -- 0.021331752811300946\n"
          ],
          "name": "stdout"
        }
      ]
    }
  ]
}